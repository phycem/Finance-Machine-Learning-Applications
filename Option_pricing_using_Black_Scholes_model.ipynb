{
  "nbformat": 4,
  "nbformat_minor": 0,
  "metadata": {
    "colab": {
      "provenance": [],
      "authorship_tag": "ABX9TyP9O+KJRr2JDkKN9o5N3oTD",
      "include_colab_link": true
    },
    "kernelspec": {
      "name": "python3",
      "display_name": "Python 3"
    },
    "language_info": {
      "name": "python"
    }
  },
  "cells": [
    {
      "cell_type": "markdown",
      "metadata": {
        "id": "view-in-github",
        "colab_type": "text"
      },
      "source": [
        "<a href=\"https://colab.research.google.com/github/phycem/Finance-Machine-Learning-Applications/blob/main/Option_pricing_using_Black_Scholes_model.ipynb\" target=\"_parent\"><img src=\"https://colab.research.google.com/assets/colab-badge.svg\" alt=\"Open In Colab\"/></a>"
      ]
    },
    {
      "cell_type": "code",
      "source": [
        "# the finite difference method used, which involves setting up a grid of points."
      ],
      "metadata": {
        "id": "tTl19TmjVrOt"
      },
      "execution_count": null,
      "outputs": []
    },
    {
      "cell_type": "markdown",
      "source": [
        "![image.png](data:image/png;base64,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)"
      ],
      "metadata": {
        "id": "olYT1iQDbubt"
      }
    },
    {
      "cell_type": "code",
      "source": [
        "def bottom_boundary_condition(K,T,S_min, r, t):\n",
        "    print(S.shape)\n",
        "    return np.maximum(S-K,0)"
      ],
      "metadata": {
        "id": "bohhuivOfcZm"
      },
      "execution_count": 33,
      "outputs": []
    },
    {
      "cell_type": "code",
      "source": [
        "import numpy as np\n",
        "import scipy.sparse\n",
        "import matplotlib.pyplot as plt\n",
        "from mpl_toolkits.mplot3d import Axes3D\n",
        "def final_boundary_condition(K,T,S_min, r, t):\n",
        "    return np.zeros(t.shape)\n",
        "def top_boundary_condition(K,T,S_max, r, t):\n",
        "    return S_max-np.exp(-r*(T-t))*K\n",
        "def bottom_boundary_condition(K,T,S_min, r, t):\n",
        "    print(S.shape)\n",
        "    return np.maximum(S-K,0)\n",
        "\n",
        "\n"
      ],
      "metadata": {
        "id": "KF0ZKdZrbvGH"
      },
      "execution_count": 34,
      "outputs": []
    },
    {
      "cell_type": "code",
      "source": [
        "def compute_abc( K, T, sigma, r, S, dt, dS ):\n",
        "    a = -sigma**2 * S**2/(2* dS**2 ) + r*S/(2*dS)\n",
        "    b = r + sigma**2 * S**2/(dS**2)\n",
        "    c = -sigma**2 * S**2/(2* dS**2 ) - r*S/(2*dS)\n",
        "    return a,b,c\n",
        "def compute_lambda( a,b,c ):\n",
        "    return scipy.sparse.diags( [a[1:],b,c[:-1]],offsets=[-1,0,1])\n",
        "def compute_W(a,b,c, V0, VM): \n",
        "    M = len(b)+1\n",
        "    W = np.zeros(M-1)\n",
        "    W[0] = a[0]*V0 \n",
        "    W[-1] = c[-1]*VM \n",
        "    return W"
      ],
      "metadata": {
        "id": "ac5alksDcXwY"
      },
      "execution_count": 35,
      "outputs": []
    },
    {
      "cell_type": "code",
      "source": [
        "def price_call_explicit( K, T, r, sigma, N, M):\n",
        "    # Choose the shape of the grid\n",
        "    dt = T/N\n",
        "    S_min=0\n",
        "    S_max=K*np.exp(8*sigma*np.sqrt(T))\n",
        "    dS = (S_max-S_min)/M\n",
        "    S = np.linspace(S_min,S_max,M+1)\n",
        "    t = np.linspace(0,T,N+1)\n",
        "    V = np.zeros((N+1,M+1)) #...\n",
        "    \n",
        "    # Set the boundary conditions\n",
        "    V[:,-1] = top_boundary_condition(K,T,S_max,r,t)\n",
        "    V[:,0] = bottom_boundary_condition(K,T,S_max,r,t)\n",
        "    V[-1,:] = final_boundary_condition(K,T,S) #...\n",
        "    \n",
        "    # Apply the recurrence relation\n",
        "    a,b,c = compute_abc(K,T,sigma,r,S[1:-1],dt,dS)\n",
        "    Lambda =compute_lambda( a,b,c) \n",
        "    identity = scipy.sparse.identity(M-1)\n",
        "    \n",
        "    for i in range(N,0,-1):\n",
        "        W = compute_W(a,b,c,V[i,0],V[i,M])\n",
        "        # Use `dot` to multiply a vector by a sparse matrix\n",
        "        V[i-1,1:M] = (identity-Lambda*dt).dot( V[i,1:M] ) - W*dt\n",
        "        \n",
        "    return V, t, S\n",
        "\n",
        "\n"
      ],
      "metadata": {
        "id": "rhIMMhbFcb_4"
      },
      "execution_count": 36,
      "outputs": []
    },
    {
      "cell_type": "code",
      "source": [
        "import matplotlib.pyplot as plt\n",
        "from mpl_toolkits.mplot3d import Axes3D\n",
        "\n",
        "K = 100\n",
        "T = 1\n",
        "r = 0.05\n",
        "sigma = 0.2\n",
        "N = 1000\n",
        "M = 100\n",
        "S_min=0\n",
        "S_max=K*np.exp(8*sigma*np.sqrt(T))\n",
        "dS = (S_max-S_min)/M\n",
        "S = np.linspace(S_min,S_max,M+1)\n",
        "t = np.linspace(0,T,N+1)\n",
        "V = np.zeros((N+1,M+1)) #...\n",
        "\n",
        "V, t, S = price_call_explicit(K, T, r, sigma, N, M)\n",
        "\n",
        "# Create a 3D plot of V with t and S as the axes\n",
        "fig = plt.figure()\n",
        "ax = fig.gca(projection='3d')\n",
        "T, S = np.meshgrid(t, S)\n",
        "ax.plot_surface(T, S, V.T)\n",
        "ax.set_xlabel('Time')\n",
        "ax.set_ylabel('Stock Price')\n",
        "ax.set_zlabel('Option Price')\n",
        "plt.show()\n"
      ],
      "metadata": {
        "colab": {
          "base_uri": "https://localhost:8080/",
          "height": 373
        },
        "id": "PQZjXUD1dRw5",
        "outputId": "053ca167-204a-40db-da4d-e92140d6e940"
      },
      "execution_count": 37,
      "outputs": [
        {
          "output_type": "stream",
          "name": "stdout",
          "text": [
            "(101,)\n"
          ]
        },
        {
          "output_type": "error",
          "ename": "ValueError",
          "evalue": "ignored",
          "traceback": [
            "\u001b[0;31m---------------------------------------------------------------------------\u001b[0m",
            "\u001b[0;31mValueError\u001b[0m                                Traceback (most recent call last)",
            "\u001b[0;32m<ipython-input-37-6fa76bdf2b86>\u001b[0m in \u001b[0;36m<cell line: 17>\u001b[0;34m()\u001b[0m\n\u001b[1;32m     15\u001b[0m \u001b[0mV\u001b[0m \u001b[0;34m=\u001b[0m \u001b[0mnp\u001b[0m\u001b[0;34m.\u001b[0m\u001b[0mzeros\u001b[0m\u001b[0;34m(\u001b[0m\u001b[0;34m(\u001b[0m\u001b[0mN\u001b[0m\u001b[0;34m+\u001b[0m\u001b[0;36m1\u001b[0m\u001b[0;34m,\u001b[0m\u001b[0mM\u001b[0m\u001b[0;34m+\u001b[0m\u001b[0;36m1\u001b[0m\u001b[0;34m)\u001b[0m\u001b[0;34m)\u001b[0m \u001b[0;31m#...\u001b[0m\u001b[0;34m\u001b[0m\u001b[0;34m\u001b[0m\u001b[0m\n\u001b[1;32m     16\u001b[0m \u001b[0;34m\u001b[0m\u001b[0m\n\u001b[0;32m---> 17\u001b[0;31m \u001b[0mV\u001b[0m\u001b[0;34m,\u001b[0m \u001b[0mt\u001b[0m\u001b[0;34m,\u001b[0m \u001b[0mS\u001b[0m \u001b[0;34m=\u001b[0m \u001b[0mprice_call_explicit\u001b[0m\u001b[0;34m(\u001b[0m\u001b[0mK\u001b[0m\u001b[0;34m,\u001b[0m \u001b[0mT\u001b[0m\u001b[0;34m,\u001b[0m \u001b[0mr\u001b[0m\u001b[0;34m,\u001b[0m \u001b[0msigma\u001b[0m\u001b[0;34m,\u001b[0m \u001b[0mN\u001b[0m\u001b[0;34m,\u001b[0m \u001b[0mM\u001b[0m\u001b[0;34m)\u001b[0m\u001b[0;34m\u001b[0m\u001b[0;34m\u001b[0m\u001b[0m\n\u001b[0m\u001b[1;32m     18\u001b[0m \u001b[0;34m\u001b[0m\u001b[0m\n\u001b[1;32m     19\u001b[0m \u001b[0;31m# Create a 3D plot of V with t and S as the axes\u001b[0m\u001b[0;34m\u001b[0m\u001b[0;34m\u001b[0m\u001b[0m\n",
            "\u001b[0;32m<ipython-input-36-ea8258d7a63d>\u001b[0m in \u001b[0;36mprice_call_explicit\u001b[0;34m(K, T, r, sigma, N, M)\u001b[0m\n\u001b[1;32m     11\u001b[0m     \u001b[0;31m# Set the boundary conditions\u001b[0m\u001b[0;34m\u001b[0m\u001b[0;34m\u001b[0m\u001b[0m\n\u001b[1;32m     12\u001b[0m     \u001b[0mV\u001b[0m\u001b[0;34m[\u001b[0m\u001b[0;34m:\u001b[0m\u001b[0;34m,\u001b[0m\u001b[0;34m-\u001b[0m\u001b[0;36m1\u001b[0m\u001b[0;34m]\u001b[0m \u001b[0;34m=\u001b[0m \u001b[0mtop_boundary_condition\u001b[0m\u001b[0;34m(\u001b[0m\u001b[0mK\u001b[0m\u001b[0;34m,\u001b[0m\u001b[0mT\u001b[0m\u001b[0;34m,\u001b[0m\u001b[0mS_max\u001b[0m\u001b[0;34m,\u001b[0m\u001b[0mr\u001b[0m\u001b[0;34m,\u001b[0m\u001b[0mt\u001b[0m\u001b[0;34m)\u001b[0m\u001b[0;34m\u001b[0m\u001b[0;34m\u001b[0m\u001b[0m\n\u001b[0;32m---> 13\u001b[0;31m     \u001b[0mV\u001b[0m\u001b[0;34m[\u001b[0m\u001b[0;34m:\u001b[0m\u001b[0;34m,\u001b[0m\u001b[0;36m0\u001b[0m\u001b[0;34m]\u001b[0m \u001b[0;34m=\u001b[0m \u001b[0mbottom_boundary_condition\u001b[0m\u001b[0;34m(\u001b[0m\u001b[0mK\u001b[0m\u001b[0;34m,\u001b[0m\u001b[0mT\u001b[0m\u001b[0;34m,\u001b[0m\u001b[0mS_max\u001b[0m\u001b[0;34m,\u001b[0m\u001b[0mr\u001b[0m\u001b[0;34m,\u001b[0m\u001b[0mt\u001b[0m\u001b[0;34m)\u001b[0m\u001b[0;34m\u001b[0m\u001b[0;34m\u001b[0m\u001b[0m\n\u001b[0m\u001b[1;32m     14\u001b[0m     \u001b[0mV\u001b[0m\u001b[0;34m[\u001b[0m\u001b[0;34m-\u001b[0m\u001b[0;36m1\u001b[0m\u001b[0;34m,\u001b[0m\u001b[0;34m:\u001b[0m\u001b[0;34m]\u001b[0m \u001b[0;34m=\u001b[0m \u001b[0mfinal_boundary_condition\u001b[0m\u001b[0;34m(\u001b[0m\u001b[0mK\u001b[0m\u001b[0;34m,\u001b[0m\u001b[0mT\u001b[0m\u001b[0;34m,\u001b[0m\u001b[0mS\u001b[0m\u001b[0;34m)\u001b[0m \u001b[0;31m#...\u001b[0m\u001b[0;34m\u001b[0m\u001b[0;34m\u001b[0m\u001b[0m\n\u001b[1;32m     15\u001b[0m \u001b[0;34m\u001b[0m\u001b[0m\n",
            "\u001b[0;31mValueError\u001b[0m: could not broadcast input array from shape (101,) into shape (1001,)"
          ]
        }
      ]
    },
    {
      "cell_type": "code",
      "source": [
        "import matplotlib.pyplot as plt\n",
        "from mpl_toolkits.mplot3d import Axes3D\n",
        "\n",
        "K = 100\n",
        "T = 1\n",
        "r = 0.05\n",
        "sigma = 0.2\n",
        "N = 1000\n",
        "M = 100\n",
        "\n",
        "V, t, S = price_call_explicit(K, T, r, sigma, N, M)\n",
        "\n",
        "# Create a 3D plot of V with t and S as the axes\n",
        "fig = plt.figure()\n",
        "ax = fig.gca(projection='3d')\n",
        "T, S = np.meshgrid(t, S)\n",
        "ax.plot_surface(T, S, V.T)\n",
        "ax.set_xlabel('Time')\n",
        "ax.set_ylabel('Stock Price')\n",
        "ax.set_zlabel('Option Price')\n",
        "plt.show()\n"
      ],
      "metadata": {
        "colab": {
          "base_uri": "https://localhost:8080/",
          "height": 345
        },
        "id": "Jf9e0wEFcs5Z",
        "outputId": "7d21f7bc-8c8f-47bf-d714-271e87802256"
      },
      "execution_count": 12,
      "outputs": [
        {
          "output_type": "error",
          "ename": "NameError",
          "evalue": "ignored",
          "traceback": [
            "\u001b[0;31m---------------------------------------------------------------------------\u001b[0m",
            "\u001b[0;31mNameError\u001b[0m                                 Traceback (most recent call last)",
            "\u001b[0;32m<ipython-input-12-7ddda05f939a>\u001b[0m in \u001b[0;36m<cell line: 11>\u001b[0;34m()\u001b[0m\n\u001b[1;32m      9\u001b[0m \u001b[0mM\u001b[0m \u001b[0;34m=\u001b[0m \u001b[0;36m100\u001b[0m\u001b[0;34m\u001b[0m\u001b[0;34m\u001b[0m\u001b[0m\n\u001b[1;32m     10\u001b[0m \u001b[0;34m\u001b[0m\u001b[0m\n\u001b[0;32m---> 11\u001b[0;31m \u001b[0mV\u001b[0m\u001b[0;34m,\u001b[0m \u001b[0mt\u001b[0m\u001b[0;34m,\u001b[0m \u001b[0mS\u001b[0m \u001b[0;34m=\u001b[0m \u001b[0mprice_call_explicit\u001b[0m\u001b[0;34m(\u001b[0m\u001b[0mK\u001b[0m\u001b[0;34m,\u001b[0m \u001b[0mT\u001b[0m\u001b[0;34m,\u001b[0m \u001b[0mr\u001b[0m\u001b[0;34m,\u001b[0m \u001b[0msigma\u001b[0m\u001b[0;34m,\u001b[0m \u001b[0mN\u001b[0m\u001b[0;34m,\u001b[0m \u001b[0mM\u001b[0m\u001b[0;34m)\u001b[0m\u001b[0;34m\u001b[0m\u001b[0;34m\u001b[0m\u001b[0m\n\u001b[0m\u001b[1;32m     12\u001b[0m \u001b[0;34m\u001b[0m\u001b[0m\n\u001b[1;32m     13\u001b[0m \u001b[0;31m# Create a 3D plot of V with t and S as the axes\u001b[0m\u001b[0;34m\u001b[0m\u001b[0;34m\u001b[0m\u001b[0m\n",
            "\u001b[0;32m<ipython-input-11-0a51cf6819a0>\u001b[0m in \u001b[0;36mprice_call_explicit\u001b[0;34m(K, T, r, sigma, N, M)\u001b[0m\n\u001b[1;32m     11\u001b[0m     \u001b[0;31m# Set the boundary conditions\u001b[0m\u001b[0;34m\u001b[0m\u001b[0;34m\u001b[0m\u001b[0m\n\u001b[1;32m     12\u001b[0m     \u001b[0mV\u001b[0m\u001b[0;34m[\u001b[0m\u001b[0;34m:\u001b[0m\u001b[0;34m,\u001b[0m\u001b[0;34m-\u001b[0m\u001b[0;36m1\u001b[0m\u001b[0;34m]\u001b[0m \u001b[0;34m=\u001b[0m \u001b[0mtop_boundary_condition\u001b[0m\u001b[0;34m(\u001b[0m\u001b[0mK\u001b[0m\u001b[0;34m,\u001b[0m\u001b[0mT\u001b[0m\u001b[0;34m,\u001b[0m\u001b[0mS_max\u001b[0m\u001b[0;34m,\u001b[0m\u001b[0mr\u001b[0m\u001b[0;34m,\u001b[0m\u001b[0mt\u001b[0m\u001b[0;34m)\u001b[0m\u001b[0;34m\u001b[0m\u001b[0;34m\u001b[0m\u001b[0m\n\u001b[0;32m---> 13\u001b[0;31m     \u001b[0mV\u001b[0m\u001b[0;34m[\u001b[0m\u001b[0;34m:\u001b[0m\u001b[0;34m,\u001b[0m\u001b[0;36m0\u001b[0m\u001b[0;34m]\u001b[0m \u001b[0;34m=\u001b[0m \u001b[0mbottom_boundary_condition\u001b[0m\u001b[0;34m(\u001b[0m\u001b[0mK\u001b[0m\u001b[0;34m,\u001b[0m\u001b[0mT\u001b[0m\u001b[0;34m,\u001b[0m\u001b[0mS_max\u001b[0m\u001b[0;34m,\u001b[0m\u001b[0mr\u001b[0m\u001b[0;34m,\u001b[0m\u001b[0mt\u001b[0m\u001b[0;34m)\u001b[0m\u001b[0;34m\u001b[0m\u001b[0;34m\u001b[0m\u001b[0m\n\u001b[0m\u001b[1;32m     14\u001b[0m     \u001b[0mV\u001b[0m\u001b[0;34m[\u001b[0m\u001b[0;34m-\u001b[0m\u001b[0;36m1\u001b[0m\u001b[0;34m,\u001b[0m\u001b[0;34m:\u001b[0m\u001b[0;34m]\u001b[0m \u001b[0;34m=\u001b[0m \u001b[0mfinal_boundary_condition\u001b[0m\u001b[0;34m(\u001b[0m\u001b[0mK\u001b[0m\u001b[0;34m,\u001b[0m\u001b[0mT\u001b[0m\u001b[0;34m,\u001b[0m\u001b[0mS\u001b[0m\u001b[0;34m)\u001b[0m \u001b[0;31m#...\u001b[0m\u001b[0;34m\u001b[0m\u001b[0;34m\u001b[0m\u001b[0m\n\u001b[1;32m     15\u001b[0m \u001b[0;34m\u001b[0m\u001b[0m\n",
            "\u001b[0;32m<ipython-input-9-8856c0fd3e2d>\u001b[0m in \u001b[0;36mbottom_boundary_condition\u001b[0;34m(K, T, S_min, r, t)\u001b[0m\n\u001b[1;32m      8\u001b[0m     \u001b[0;32mreturn\u001b[0m \u001b[0mS_max\u001b[0m\u001b[0;34m-\u001b[0m\u001b[0mnp\u001b[0m\u001b[0;34m.\u001b[0m\u001b[0mexp\u001b[0m\u001b[0;34m(\u001b[0m\u001b[0;34m-\u001b[0m\u001b[0mr\u001b[0m\u001b[0;34m*\u001b[0m\u001b[0;34m(\u001b[0m\u001b[0mT\u001b[0m\u001b[0;34m-\u001b[0m\u001b[0mt\u001b[0m\u001b[0;34m)\u001b[0m\u001b[0;34m)\u001b[0m\u001b[0;34m*\u001b[0m\u001b[0mK\u001b[0m\u001b[0;34m\u001b[0m\u001b[0;34m\u001b[0m\u001b[0m\n\u001b[1;32m      9\u001b[0m \u001b[0;32mdef\u001b[0m \u001b[0mbottom_boundary_condition\u001b[0m\u001b[0;34m(\u001b[0m\u001b[0mK\u001b[0m\u001b[0;34m,\u001b[0m\u001b[0mT\u001b[0m\u001b[0;34m,\u001b[0m\u001b[0mS_min\u001b[0m\u001b[0;34m,\u001b[0m \u001b[0mr\u001b[0m\u001b[0;34m,\u001b[0m \u001b[0mt\u001b[0m\u001b[0;34m)\u001b[0m\u001b[0;34m:\u001b[0m\u001b[0;34m\u001b[0m\u001b[0;34m\u001b[0m\u001b[0m\n\u001b[0;32m---> 10\u001b[0;31m     \u001b[0;32mreturn\u001b[0m \u001b[0mnp\u001b[0m\u001b[0;34m.\u001b[0m\u001b[0mmaximum\u001b[0m\u001b[0;34m(\u001b[0m\u001b[0mS\u001b[0m\u001b[0;34m-\u001b[0m\u001b[0mK\u001b[0m\u001b[0;34m,\u001b[0m\u001b[0;36m0\u001b[0m\u001b[0;34m)\u001b[0m\u001b[0;34m\u001b[0m\u001b[0;34m\u001b[0m\u001b[0m\n\u001b[0m",
            "\u001b[0;31mNameError\u001b[0m: name 'S' is not defined"
          ]
        }
      ]
    },
    {
      "cell_type": "markdown",
      "source": [
        "https://towardsdatascience.com/option-pricing-using-the-black-scholes-model-without-the-formula-e5c002771e2f"
      ],
      "metadata": {
        "id": "i90f-2MDfuBp"
      }
    },
    {
      "cell_type": "code",
      "source": [],
      "metadata": {
        "id": "p2KoMHJJfufi"
      },
      "execution_count": null,
      "outputs": []
    }
  ]
}